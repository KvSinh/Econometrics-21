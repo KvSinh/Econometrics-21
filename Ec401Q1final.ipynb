{
  "nbformat": 4,
  "nbformat_minor": 0,
  "metadata": {
    "colab": {
      "name": "EC401Q1.ipynb",
      "provenance": [],
      "collapsed_sections": []
    },
    "kernelspec": {
      "name": "python3",
      "display_name": "Python 3"
    },
    "language_info": {
      "name": "python"
    }
  },
  "cells": [
    {
      "cell_type": "code",
      "metadata": {
        "id": "wMIROcywn6RX"
      },
      "source": [
        "import pandas as pd\n",
        "import numpy as np                                       #Importing all Major Libraries in Python\n",
        "import matplotlib.pyplot as plt\n",
        "%matplotlib inline"
      ],
      "execution_count": 1,
      "outputs": []
    },
    {
      "cell_type": "markdown",
      "metadata": {
        "id": "HdmdAf4IGkuT"
      },
      "source": [
        "##Data Preprocessing Stage"
      ]
    },
    {
      "cell_type": "code",
      "metadata": {
        "colab": {
          "base_uri": "https://localhost:8080/",
          "height": 600
        },
        "id": "qbDy3sPwoQf-",
        "outputId": "1c46ee49-9e16-4bfa-a92c-f58345a47bc6"
      },
      "source": [
        "df= pd.read_excel('Ec401.xlsx', sheet_name= 'Sheet1', engine='openpyxl', header=0)    #Importing Excel file as DataFrame\n",
        "df"
      ],
      "execution_count": 2,
      "outputs": [
        {
          "output_type": "execute_result",
          "data": {
            "text/html": [
              "<div>\n",
              "<style scoped>\n",
              "    .dataframe tbody tr th:only-of-type {\n",
              "        vertical-align: middle;\n",
              "    }\n",
              "\n",
              "    .dataframe tbody tr th {\n",
              "        vertical-align: top;\n",
              "    }\n",
              "\n",
              "    .dataframe thead th {\n",
              "        text-align: right;\n",
              "    }\n",
              "</style>\n",
              "<table border=\"1\" class=\"dataframe\">\n",
              "  <thead>\n",
              "    <tr style=\"text-align: right;\">\n",
              "      <th></th>\n",
              "      <th>Name</th>\n",
              "      <th>Matches</th>\n",
              "      <th>Innings</th>\n",
              "      <th>NotOut</th>\n",
              "      <th>RunsScored</th>\n",
              "      <th>HS</th>\n",
              "      <th>Average</th>\n",
              "      <th>BallsFaced</th>\n",
              "      <th>StrikeRate</th>\n",
              "      <th>Centuries</th>\n",
              "      <th>HalfCenturies</th>\n",
              "      <th>Fours</th>\n",
              "      <th>Sixs</th>\n",
              "      <th>Capped</th>\n",
              "      <th>Indian</th>\n",
              "      <th>Auctionprice</th>\n",
              "    </tr>\n",
              "  </thead>\n",
              "  <tbody>\n",
              "    <tr>\n",
              "      <th>0</th>\n",
              "      <td>Aaron Finch</td>\n",
              "      <td>3</td>\n",
              "      <td>3</td>\n",
              "      <td>1</td>\n",
              "      <td>23</td>\n",
              "      <td>10</td>\n",
              "      <td>11.50</td>\n",
              "      <td>33</td>\n",
              "      <td>69.69</td>\n",
              "      <td>0</td>\n",
              "      <td>0</td>\n",
              "      <td>4</td>\n",
              "      <td>0</td>\n",
              "      <td>1</td>\n",
              "      <td>0</td>\n",
              "      <td>3.20</td>\n",
              "    </tr>\n",
              "    <tr>\n",
              "      <th>1</th>\n",
              "      <td>AB de Villiers</td>\n",
              "      <td>16</td>\n",
              "      <td>14</td>\n",
              "      <td>3</td>\n",
              "      <td>513</td>\n",
              "      <td>133</td>\n",
              "      <td>46.63</td>\n",
              "      <td>293</td>\n",
              "      <td>175.08</td>\n",
              "      <td>1</td>\n",
              "      <td>2</td>\n",
              "      <td>60</td>\n",
              "      <td>22</td>\n",
              "      <td>1</td>\n",
              "      <td>0</td>\n",
              "      <td>9.50</td>\n",
              "    </tr>\n",
              "    <tr>\n",
              "      <th>2</th>\n",
              "      <td>Abu Nechim</td>\n",
              "      <td>3</td>\n",
              "      <td>3</td>\n",
              "      <td>2</td>\n",
              "      <td>10</td>\n",
              "      <td>5</td>\n",
              "      <td>10.00</td>\n",
              "      <td>5</td>\n",
              "      <td>200.00</td>\n",
              "      <td>0</td>\n",
              "      <td>0</td>\n",
              "      <td>2</td>\n",
              "      <td>0</td>\n",
              "      <td>0</td>\n",
              "      <td>1</td>\n",
              "      <td>0.30</td>\n",
              "    </tr>\n",
              "    <tr>\n",
              "      <th>3</th>\n",
              "      <td>Aditya Tare</td>\n",
              "      <td>2</td>\n",
              "      <td>2</td>\n",
              "      <td>0</td>\n",
              "      <td>14</td>\n",
              "      <td>7</td>\n",
              "      <td>7.00</td>\n",
              "      <td>17</td>\n",
              "      <td>82.35</td>\n",
              "      <td>0</td>\n",
              "      <td>0</td>\n",
              "      <td>1</td>\n",
              "      <td>0</td>\n",
              "      <td>0</td>\n",
              "      <td>1</td>\n",
              "      <td>1.60</td>\n",
              "    </tr>\n",
              "    <tr>\n",
              "      <th>4</th>\n",
              "      <td>Ajinkya Rahane</td>\n",
              "      <td>14</td>\n",
              "      <td>13</td>\n",
              "      <td>2</td>\n",
              "      <td>540</td>\n",
              "      <td>91</td>\n",
              "      <td>49.09</td>\n",
              "      <td>413</td>\n",
              "      <td>130.75</td>\n",
              "      <td>0</td>\n",
              "      <td>4</td>\n",
              "      <td>53</td>\n",
              "      <td>13</td>\n",
              "      <td>1</td>\n",
              "      <td>1</td>\n",
              "      <td>7.50</td>\n",
              "    </tr>\n",
              "    <tr>\n",
              "      <th>...</th>\n",
              "      <td>...</td>\n",
              "      <td>...</td>\n",
              "      <td>...</td>\n",
              "      <td>...</td>\n",
              "      <td>...</td>\n",
              "      <td>...</td>\n",
              "      <td>...</td>\n",
              "      <td>...</td>\n",
              "      <td>...</td>\n",
              "      <td>...</td>\n",
              "      <td>...</td>\n",
              "      <td>...</td>\n",
              "      <td>...</td>\n",
              "      <td>...</td>\n",
              "      <td>...</td>\n",
              "      <td>...</td>\n",
              "    </tr>\n",
              "    <tr>\n",
              "      <th>124</th>\n",
              "      <td>Virender Sehwag</td>\n",
              "      <td>8</td>\n",
              "      <td>8</td>\n",
              "      <td>0</td>\n",
              "      <td>99</td>\n",
              "      <td>47</td>\n",
              "      <td>12.37</td>\n",
              "      <td>84</td>\n",
              "      <td>117.85</td>\n",
              "      <td>0</td>\n",
              "      <td>0</td>\n",
              "      <td>12</td>\n",
              "      <td>3</td>\n",
              "      <td>1</td>\n",
              "      <td>1</td>\n",
              "      <td>3.20</td>\n",
              "    </tr>\n",
              "    <tr>\n",
              "      <th>125</th>\n",
              "      <td>Wriddhiman Saha</td>\n",
              "      <td>14</td>\n",
              "      <td>13</td>\n",
              "      <td>0</td>\n",
              "      <td>249</td>\n",
              "      <td>42</td>\n",
              "      <td>19.15</td>\n",
              "      <td>197</td>\n",
              "      <td>126.39</td>\n",
              "      <td>0</td>\n",
              "      <td>0</td>\n",
              "      <td>16</td>\n",
              "      <td>10</td>\n",
              "      <td>0</td>\n",
              "      <td>1</td>\n",
              "      <td>2.20</td>\n",
              "    </tr>\n",
              "    <tr>\n",
              "      <th>126</th>\n",
              "      <td>Yusuf Pathan</td>\n",
              "      <td>13</td>\n",
              "      <td>12</td>\n",
              "      <td>5</td>\n",
              "      <td>312</td>\n",
              "      <td>52</td>\n",
              "      <td>44.57</td>\n",
              "      <td>231</td>\n",
              "      <td>135.06</td>\n",
              "      <td>0</td>\n",
              "      <td>1</td>\n",
              "      <td>29</td>\n",
              "      <td>12</td>\n",
              "      <td>1</td>\n",
              "      <td>1</td>\n",
              "      <td>3.25</td>\n",
              "    </tr>\n",
              "    <tr>\n",
              "      <th>127</th>\n",
              "      <td>Yuvraj Singh</td>\n",
              "      <td>14</td>\n",
              "      <td>13</td>\n",
              "      <td>0</td>\n",
              "      <td>248</td>\n",
              "      <td>57</td>\n",
              "      <td>19.07</td>\n",
              "      <td>210</td>\n",
              "      <td>118.09</td>\n",
              "      <td>0</td>\n",
              "      <td>2</td>\n",
              "      <td>23</td>\n",
              "      <td>10</td>\n",
              "      <td>1</td>\n",
              "      <td>1</td>\n",
              "      <td>16.00</td>\n",
              "    </tr>\n",
              "    <tr>\n",
              "      <th>128</th>\n",
              "      <td>Yuzvendra Chahal</td>\n",
              "      <td>15</td>\n",
              "      <td>2</td>\n",
              "      <td>2</td>\n",
              "      <td>1</td>\n",
              "      <td>1</td>\n",
              "      <td>NaN</td>\n",
              "      <td>1</td>\n",
              "      <td>100.00</td>\n",
              "      <td>0</td>\n",
              "      <td>0</td>\n",
              "      <td>0</td>\n",
              "      <td>0</td>\n",
              "      <td>0</td>\n",
              "      <td>1</td>\n",
              "      <td>0.10</td>\n",
              "    </tr>\n",
              "  </tbody>\n",
              "</table>\n",
              "<p>129 rows × 16 columns</p>\n",
              "</div>"
            ],
            "text/plain": [
              "                 Name  Matches  Innings  ...  Capped  Indian  Auctionprice\n",
              "0         Aaron Finch        3        3  ...       1       0          3.20\n",
              "1      AB de Villiers       16       14  ...       1       0          9.50\n",
              "2          Abu Nechim        3        3  ...       0       1          0.30\n",
              "3         Aditya Tare        2        2  ...       0       1          1.60\n",
              "4      Ajinkya Rahane       14       13  ...       1       1          7.50\n",
              "..                ...      ...      ...  ...     ...     ...           ...\n",
              "124   Virender Sehwag        8        8  ...       1       1          3.20\n",
              "125   Wriddhiman Saha       14       13  ...       0       1          2.20\n",
              "126      Yusuf Pathan       13       12  ...       1       1          3.25\n",
              "127      Yuvraj Singh       14       13  ...       1       1         16.00\n",
              "128  Yuzvendra Chahal       15        2  ...       0       1          0.10\n",
              "\n",
              "[129 rows x 16 columns]"
            ]
          },
          "metadata": {},
          "execution_count": 2
        }
      ]
    },
    {
      "cell_type": "code",
      "metadata": {
        "id": "N15urjItMEaN"
      },
      "source": [
        "from sklearn.impute import SimpleImputer\n",
        "imputer = SimpleImputer(missing_values=np.nan, strategy='mean')\n",
        "imputer.fit(df.iloc[:,6:9])                                            #Replacing NaN with mean using Simple Imputer Module \n",
        "df.iloc[:,6:9] = imputer.transform(df.iloc[:,6:9])                      #Average is not defined for Batsmen who don't get out atleast once                    "
      ],
      "execution_count": 3,
      "outputs": []
    },
    {
      "cell_type": "code",
      "metadata": {
        "colab": {
          "base_uri": "https://localhost:8080/",
          "height": 444
        },
        "id": "Lb9zyWdAhJzt",
        "outputId": "373026cd-4b50-4ad6-e68e-bed10a89de61"
      },
      "source": [
        "df2=df.copy(deep=True)                                       #Creating a copy of original DataFrame\n",
        "df.drop('Name', inplace=True,axis=1)\n",
        "df"
      ],
      "execution_count": 4,
      "outputs": [
        {
          "output_type": "execute_result",
          "data": {
            "text/html": [
              "<div>\n",
              "<style scoped>\n",
              "    .dataframe tbody tr th:only-of-type {\n",
              "        vertical-align: middle;\n",
              "    }\n",
              "\n",
              "    .dataframe tbody tr th {\n",
              "        vertical-align: top;\n",
              "    }\n",
              "\n",
              "    .dataframe thead th {\n",
              "        text-align: right;\n",
              "    }\n",
              "</style>\n",
              "<table border=\"1\" class=\"dataframe\">\n",
              "  <thead>\n",
              "    <tr style=\"text-align: right;\">\n",
              "      <th></th>\n",
              "      <th>Matches</th>\n",
              "      <th>Innings</th>\n",
              "      <th>NotOut</th>\n",
              "      <th>RunsScored</th>\n",
              "      <th>HS</th>\n",
              "      <th>Average</th>\n",
              "      <th>BallsFaced</th>\n",
              "      <th>StrikeRate</th>\n",
              "      <th>Centuries</th>\n",
              "      <th>HalfCenturies</th>\n",
              "      <th>Fours</th>\n",
              "      <th>Sixs</th>\n",
              "      <th>Capped</th>\n",
              "      <th>Indian</th>\n",
              "      <th>Auctionprice</th>\n",
              "    </tr>\n",
              "  </thead>\n",
              "  <tbody>\n",
              "    <tr>\n",
              "      <th>0</th>\n",
              "      <td>3</td>\n",
              "      <td>3</td>\n",
              "      <td>1</td>\n",
              "      <td>23</td>\n",
              "      <td>10</td>\n",
              "      <td>11.500000</td>\n",
              "      <td>33.0</td>\n",
              "      <td>69.69</td>\n",
              "      <td>0</td>\n",
              "      <td>0</td>\n",
              "      <td>4</td>\n",
              "      <td>0</td>\n",
              "      <td>1</td>\n",
              "      <td>0</td>\n",
              "      <td>3.20</td>\n",
              "    </tr>\n",
              "    <tr>\n",
              "      <th>1</th>\n",
              "      <td>16</td>\n",
              "      <td>14</td>\n",
              "      <td>3</td>\n",
              "      <td>513</td>\n",
              "      <td>133</td>\n",
              "      <td>46.630000</td>\n",
              "      <td>293.0</td>\n",
              "      <td>175.08</td>\n",
              "      <td>1</td>\n",
              "      <td>2</td>\n",
              "      <td>60</td>\n",
              "      <td>22</td>\n",
              "      <td>1</td>\n",
              "      <td>0</td>\n",
              "      <td>9.50</td>\n",
              "    </tr>\n",
              "    <tr>\n",
              "      <th>2</th>\n",
              "      <td>3</td>\n",
              "      <td>3</td>\n",
              "      <td>2</td>\n",
              "      <td>10</td>\n",
              "      <td>5</td>\n",
              "      <td>10.000000</td>\n",
              "      <td>5.0</td>\n",
              "      <td>200.00</td>\n",
              "      <td>0</td>\n",
              "      <td>0</td>\n",
              "      <td>2</td>\n",
              "      <td>0</td>\n",
              "      <td>0</td>\n",
              "      <td>1</td>\n",
              "      <td>0.30</td>\n",
              "    </tr>\n",
              "    <tr>\n",
              "      <th>3</th>\n",
              "      <td>2</td>\n",
              "      <td>2</td>\n",
              "      <td>0</td>\n",
              "      <td>14</td>\n",
              "      <td>7</td>\n",
              "      <td>7.000000</td>\n",
              "      <td>17.0</td>\n",
              "      <td>82.35</td>\n",
              "      <td>0</td>\n",
              "      <td>0</td>\n",
              "      <td>1</td>\n",
              "      <td>0</td>\n",
              "      <td>0</td>\n",
              "      <td>1</td>\n",
              "      <td>1.60</td>\n",
              "    </tr>\n",
              "    <tr>\n",
              "      <th>4</th>\n",
              "      <td>14</td>\n",
              "      <td>13</td>\n",
              "      <td>2</td>\n",
              "      <td>540</td>\n",
              "      <td>91</td>\n",
              "      <td>49.090000</td>\n",
              "      <td>413.0</td>\n",
              "      <td>130.75</td>\n",
              "      <td>0</td>\n",
              "      <td>4</td>\n",
              "      <td>53</td>\n",
              "      <td>13</td>\n",
              "      <td>1</td>\n",
              "      <td>1</td>\n",
              "      <td>7.50</td>\n",
              "    </tr>\n",
              "    <tr>\n",
              "      <th>...</th>\n",
              "      <td>...</td>\n",
              "      <td>...</td>\n",
              "      <td>...</td>\n",
              "      <td>...</td>\n",
              "      <td>...</td>\n",
              "      <td>...</td>\n",
              "      <td>...</td>\n",
              "      <td>...</td>\n",
              "      <td>...</td>\n",
              "      <td>...</td>\n",
              "      <td>...</td>\n",
              "      <td>...</td>\n",
              "      <td>...</td>\n",
              "      <td>...</td>\n",
              "      <td>...</td>\n",
              "    </tr>\n",
              "    <tr>\n",
              "      <th>124</th>\n",
              "      <td>8</td>\n",
              "      <td>8</td>\n",
              "      <td>0</td>\n",
              "      <td>99</td>\n",
              "      <td>47</td>\n",
              "      <td>12.370000</td>\n",
              "      <td>84.0</td>\n",
              "      <td>117.85</td>\n",
              "      <td>0</td>\n",
              "      <td>0</td>\n",
              "      <td>12</td>\n",
              "      <td>3</td>\n",
              "      <td>1</td>\n",
              "      <td>1</td>\n",
              "      <td>3.20</td>\n",
              "    </tr>\n",
              "    <tr>\n",
              "      <th>125</th>\n",
              "      <td>14</td>\n",
              "      <td>13</td>\n",
              "      <td>0</td>\n",
              "      <td>249</td>\n",
              "      <td>42</td>\n",
              "      <td>19.150000</td>\n",
              "      <td>197.0</td>\n",
              "      <td>126.39</td>\n",
              "      <td>0</td>\n",
              "      <td>0</td>\n",
              "      <td>16</td>\n",
              "      <td>10</td>\n",
              "      <td>0</td>\n",
              "      <td>1</td>\n",
              "      <td>2.20</td>\n",
              "    </tr>\n",
              "    <tr>\n",
              "      <th>126</th>\n",
              "      <td>13</td>\n",
              "      <td>12</td>\n",
              "      <td>5</td>\n",
              "      <td>312</td>\n",
              "      <td>52</td>\n",
              "      <td>44.570000</td>\n",
              "      <td>231.0</td>\n",
              "      <td>135.06</td>\n",
              "      <td>0</td>\n",
              "      <td>1</td>\n",
              "      <td>29</td>\n",
              "      <td>12</td>\n",
              "      <td>1</td>\n",
              "      <td>1</td>\n",
              "      <td>3.25</td>\n",
              "    </tr>\n",
              "    <tr>\n",
              "      <th>127</th>\n",
              "      <td>14</td>\n",
              "      <td>13</td>\n",
              "      <td>0</td>\n",
              "      <td>248</td>\n",
              "      <td>57</td>\n",
              "      <td>19.070000</td>\n",
              "      <td>210.0</td>\n",
              "      <td>118.09</td>\n",
              "      <td>0</td>\n",
              "      <td>2</td>\n",
              "      <td>23</td>\n",
              "      <td>10</td>\n",
              "      <td>1</td>\n",
              "      <td>1</td>\n",
              "      <td>16.00</td>\n",
              "    </tr>\n",
              "    <tr>\n",
              "      <th>128</th>\n",
              "      <td>15</td>\n",
              "      <td>2</td>\n",
              "      <td>2</td>\n",
              "      <td>1</td>\n",
              "      <td>1</td>\n",
              "      <td>20.914602</td>\n",
              "      <td>1.0</td>\n",
              "      <td>100.00</td>\n",
              "      <td>0</td>\n",
              "      <td>0</td>\n",
              "      <td>0</td>\n",
              "      <td>0</td>\n",
              "      <td>0</td>\n",
              "      <td>1</td>\n",
              "      <td>0.10</td>\n",
              "    </tr>\n",
              "  </tbody>\n",
              "</table>\n",
              "<p>129 rows × 15 columns</p>\n",
              "</div>"
            ],
            "text/plain": [
              "     Matches  Innings  NotOut  RunsScored  ...  Sixs  Capped  Indian  Auctionprice\n",
              "0          3        3       1          23  ...     0       1       0          3.20\n",
              "1         16       14       3         513  ...    22       1       0          9.50\n",
              "2          3        3       2          10  ...     0       0       1          0.30\n",
              "3          2        2       0          14  ...     0       0       1          1.60\n",
              "4         14       13       2         540  ...    13       1       1          7.50\n",
              "..       ...      ...     ...         ...  ...   ...     ...     ...           ...\n",
              "124        8        8       0          99  ...     3       1       1          3.20\n",
              "125       14       13       0         249  ...    10       0       1          2.20\n",
              "126       13       12       5         312  ...    12       1       1          3.25\n",
              "127       14       13       0         248  ...    10       1       1         16.00\n",
              "128       15        2       2           1  ...     0       0       1          0.10\n",
              "\n",
              "[129 rows x 15 columns]"
            ]
          },
          "metadata": {},
          "execution_count": 4
        }
      ]
    },
    {
      "cell_type": "markdown",
      "metadata": {
        "id": "-jSLfiaPJzGD"
      },
      "source": [
        "##Feature Selection Stage\n",
        "(Selects best features to Improve Accuracy and Reduce Overfitting)"
      ]
    },
    {
      "cell_type": "markdown",
      "metadata": {
        "id": "rA23V_tQQTCt"
      },
      "source": [
        "###Regression with all the Variables"
      ]
    },
    {
      "cell_type": "code",
      "metadata": {
        "colab": {
          "base_uri": "https://localhost:8080/"
        },
        "id": "itiaxla7J8Uy",
        "outputId": "c22ec794-97b2-4f87-c36b-0c5f5b9ced34"
      },
      "source": [
        "df1= df.copy(deep= True)\n",
        "Xa= df1.iloc[:,:-1]\n",
        "Ya= df1.iloc[:,-1]\n",
        "import statsmodels.api as sm\n",
        "Xa_new= sm.add_constant(Xa)\n",
        "modela = sm.OLS(Ya, Xa_new)\n",
        "resultsa = modela.fit()\n",
        "print(resultsa.summary())"
      ],
      "execution_count": 5,
      "outputs": [
        {
          "output_type": "stream",
          "name": "stderr",
          "text": [
            "/usr/local/lib/python3.7/dist-packages/statsmodels/tools/_testing.py:19: FutureWarning: pandas.util.testing is deprecated. Use the functions in the public API at pandas.testing instead.\n",
            "  import pandas.util.testing as tm\n"
          ]
        },
        {
          "output_type": "stream",
          "name": "stdout",
          "text": [
            "                            OLS Regression Results                            \n",
            "==============================================================================\n",
            "Dep. Variable:           Auctionprice   R-squared:                       0.488\n",
            "Model:                            OLS   Adj. R-squared:                  0.425\n",
            "Method:                 Least Squares   F-statistic:                     7.761\n",
            "Date:                Tue, 30 Nov 2021   Prob (F-statistic):           2.75e-11\n",
            "Time:                        14:52:30   Log-Likelihood:                -303.67\n",
            "No. Observations:                 129   AIC:                             637.3\n",
            "Df Residuals:                     114   BIC:                             680.2\n",
            "Df Model:                          14                                         \n",
            "Covariance Type:            nonrobust                                         \n",
            "=================================================================================\n",
            "                    coef    std err          t      P>|t|      [0.025      0.975]\n",
            "---------------------------------------------------------------------------------\n",
            "const             0.4520      0.981      0.461      0.646      -1.491       2.395\n",
            "Matches           0.0808      0.089      0.913      0.363      -0.095       0.256\n",
            "Innings           0.1193      0.218      0.546      0.586      -0.313       0.552\n",
            "NotOut           -0.0723      0.255     -0.283      0.778      -0.578       0.433\n",
            "RunsScored        0.0058      0.022      0.264      0.792      -0.038       0.049\n",
            "HS               -0.0100      0.025     -0.410      0.683      -0.059       0.039\n",
            "Average          -0.0016      0.035     -0.046      0.963      -0.071       0.068\n",
            "BallsFaced        0.0159      0.019      0.816      0.416      -0.023       0.055\n",
            "StrikeRate       -0.0076      0.007     -1.067      0.288      -0.022       0.007\n",
            "Centuries         3.8540      2.554      1.509      0.134      -1.206       8.914\n",
            "HalfCenturies     0.0067      0.524      0.013      0.990      -1.031       1.044\n",
            "Fours            -0.0958      0.090     -1.065      0.289      -0.274       0.082\n",
            "Sixs             -0.0771      0.128     -0.605      0.546      -0.330       0.175\n",
            "Capped            2.8855      0.612      4.713      0.000       1.673       4.098\n",
            "Indian            0.1542      0.593      0.260      0.795      -1.020       1.328\n",
            "==============================================================================\n",
            "Omnibus:                       17.941   Durbin-Watson:                   2.160\n",
            "Prob(Omnibus):                  0.000   Jarque-Bera (JB):               21.838\n",
            "Skew:                           0.825   Prob(JB):                     1.81e-05\n",
            "Kurtosis:                       4.158   Cond. No.                     3.01e+03\n",
            "==============================================================================\n",
            "\n",
            "Warnings:\n",
            "[1] Standard Errors assume that the covariance matrix of the errors is correctly specified.\n",
            "[2] The condition number is large, 3.01e+03. This might indicate that there are\n",
            "strong multicollinearity or other numerical problems.\n"
          ]
        }
      ]
    },
    {
      "cell_type": "markdown",
      "metadata": {
        "id": "9GhH0eQxQZNf"
      },
      "source": [
        "###Selecting the Most Relevant Features"
      ]
    },
    {
      "cell_type": "code",
      "metadata": {
        "colab": {
          "base_uri": "https://localhost:8080/",
          "height": 925
        },
        "id": "ebVPSTfGeLx3",
        "outputId": "f6ef5dde-3379-4959-bc2d-1d359e5df220"
      },
      "source": [
        "#Using Pearson Correlation\n",
        "plt.figure(figsize=(15,15))\n",
        "cor = df.corr()\n",
        "import seaborn as sns\n",
        "sns.heatmap(cor, annot=True, cmap=plt.cm.Reds)\n",
        "plt.show()"
      ],
      "execution_count": 6,
      "outputs": [
        {
          "output_type": "display_data",
          "data": {
            "image/png": "[encoded data removed]",
            "text/plain": [
              "<Figure size 1080x1080 with 2 Axes>"
            ]
          },
          "metadata": {
            "needs_background": "light"
          }
        }
      ]
    },
    {
      "cell_type": "code",
      "metadata": {
        "colab": {
          "base_uri": "https://localhost:8080/"
        },
        "id": "c0taPpIGjFjF",
        "outputId": "7ea12a57-ade4-43cb-8f30-ed1b4c690de9"
      },
      "source": [
        "#Correlation with output variable\n",
        "cor_target = abs(cor[\"Auctionprice\"])\n",
        "#Selecting highly correlated features\n",
        "relevant_features = cor_target[cor_target>0.5]\n",
        "relevant_features\n"
      ],
      "execution_count": 7,
      "outputs": [
        {
          "output_type": "execute_result",
          "data": {
            "text/plain": [
              "Innings         0.538854\n",
              "RunsScored      0.546719\n",
              "BallsFaced      0.560885\n",
              "Fours           0.509125\n",
              "Capped          0.557288\n",
              "Auctionprice    1.000000\n",
              "Name: Auctionprice, dtype: float64"
            ]
          },
          "metadata": {},
          "execution_count": 7
        }
      ]
    },
    {
      "cell_type": "code",
      "metadata": {
        "id": "OoWfHwpDlW2C"
      },
      "source": [
        "df.drop('Matches', axis=1, inplace=True)\n",
        "df.drop('NotOut', axis=1, inplace=True)\n",
        "df.drop('HS', axis=1, inplace=True)\n",
        "df.drop('Centuries', axis=1, inplace=True)\n",
        "df.drop('HalfCenturies', axis=1, inplace=True)\n",
        "df.drop('Sixs', axis=1, inplace=True)\n",
        "df.drop('Indian', axis=1, inplace=True)\n",
        "df.drop('StrikeRate', axis=1, inplace=True)\n",
        "df.drop('Average', axis=1, inplace=True)\n"
      ],
      "execution_count": 8,
      "outputs": []
    },
    {
      "cell_type": "code",
      "metadata": {
        "colab": {
          "base_uri": "https://localhost:8080/",
          "height": 431
        },
        "id": "HYtvWwp2lAT4",
        "outputId": "1091b67a-fe72-40ec-b9df-4266701221b7"
      },
      "source": [
        "#Correlation within these 5 Independent Variables\n",
        "#Using Pearson Correlation\n",
        "plt.figure(figsize=(6,6))\n",
        "cor = df.corr()\n",
        "import seaborn as sns\n",
        "sns.heatmap(cor, annot=True, cmap=plt.cm.Reds)\n",
        "plt.show()"
      ],
      "execution_count": 9,
      "outputs": [
        {
          "output_type": "display_data",
          "data": {
            "image/png": "[encoded data removed]",
            "text/plain": [
              "<Figure size 432x432 with 2 Axes>"
            ]
          },
          "metadata": {
            "needs_background": "light"
          }
        }
      ]
    },
    {
      "cell_type": "code",
      "metadata": {
        "id": "cs3ActVFoVzl"
      },
      "source": [
        "X= df.iloc[:,:-1]\n",
        "Y= df.iloc[:,-1]"
      ],
      "execution_count": 10,
      "outputs": []
    },
    {
      "cell_type": "code",
      "metadata": {
        "id": "Q0QbDkMCoGQr"
      },
      "source": [
        "import statsmodels.api as sm\n",
        "import statsmodels.formula.api as smf\n"
      ],
      "execution_count": 11,
      "outputs": []
    },
    {
      "cell_type": "code",
      "metadata": {
        "id": "TmxFTSxQs2Bv"
      },
      "source": [
        "df.drop('BallsFaced',axis=1,inplace=True)                     #High Correlation with Runs"
      ],
      "execution_count": 12,
      "outputs": []
    },
    {
      "cell_type": "code",
      "metadata": {
        "id": "-R3ZWsv8po9X"
      },
      "source": [
        "X1= df.iloc[:,:-1]\n",
        "Y1= df.iloc[:,-1]"
      ],
      "execution_count": 13,
      "outputs": []
    },
    {
      "cell_type": "code",
      "metadata": {
        "colab": {
          "base_uri": "https://localhost:8080/"
        },
        "id": "EunXsZBwpxb-",
        "outputId": "202b4d37-84fb-4ca9-c397-788ccaafef6e"
      },
      "source": [
        "X1_new=sm.add_constant(X1)\n",
        "model2 = sm.OLS(Y1, X1_new)\n",
        "results2 = model2.fit()\n",
        "print(results2.summary())"
      ],
      "execution_count": 14,
      "outputs": [
        {
          "output_type": "stream",
          "name": "stdout",
          "text": [
            "                            OLS Regression Results                            \n",
            "==============================================================================\n",
            "Dep. Variable:           Auctionprice   R-squared:                       0.442\n",
            "Model:                            OLS   Adj. R-squared:                  0.424\n",
            "Method:                 Least Squares   F-statistic:                     24.60\n",
            "Date:                Tue, 30 Nov 2021   Prob (F-statistic):           5.31e-15\n",
            "Time:                        14:52:32   Log-Likelihood:                -309.17\n",
            "No. Observations:                 129   AIC:                             628.3\n",
            "Df Residuals:                     124   BIC:                             642.6\n",
            "Df Model:                           4                                         \n",
            "Covariance Type:            nonrobust                                         \n",
            "==============================================================================\n",
            "                 coef    std err          t      P>|t|      [0.025      0.975]\n",
            "------------------------------------------------------------------------------\n",
            "const         -0.0406      0.501     -0.081      0.935      -1.032       0.950\n",
            "Innings        0.1707      0.107      1.593      0.114      -0.041       0.383\n",
            "RunsScored     0.0079      0.007      1.180      0.240      -0.005       0.021\n",
            "Fours         -0.0414      0.053     -0.775      0.440      -0.147       0.064\n",
            "Capped         2.8635      0.535      5.355      0.000       1.805       3.922\n",
            "==============================================================================\n",
            "Omnibus:                       21.670   Durbin-Watson:                   2.179\n",
            "Prob(Omnibus):                  0.000   Jarque-Bera (JB):               28.374\n",
            "Skew:                           0.927   Prob(JB):                     6.90e-07\n",
            "Kurtosis:                       4.356   Cond. No.                         526.\n",
            "==============================================================================\n",
            "\n",
            "Warnings:\n",
            "[1] Standard Errors assume that the covariance matrix of the errors is correctly specified.\n"
          ]
        }
      ]
    },
    {
      "cell_type": "code",
      "metadata": {
        "colab": {
          "base_uri": "https://localhost:8080/"
        },
        "id": "P68fgs4WS72h",
        "outputId": "d6a3f063-4f6d-439c-fc40-dbcc2ba619d1"
      },
      "source": [
        "Xi= X1.drop('RunsScored', axis=1)\n",
        "Xi_new=sm.add_constant(Xi)\n",
        "modeli = sm.OLS(Y1, Xi_new)\n",
        "results2i = modeli.fit()\n",
        "print(results2i.summary())"
      ],
      "execution_count": 15,
      "outputs": [
        {
          "output_type": "stream",
          "name": "stdout",
          "text": [
            "                            OLS Regression Results                            \n",
            "==============================================================================\n",
            "Dep. Variable:           Auctionprice   R-squared:                       0.436\n",
            "Model:                            OLS   Adj. R-squared:                  0.423\n",
            "Method:                 Least Squares   F-statistic:                     32.23\n",
            "Date:                Tue, 30 Nov 2021   Prob (F-statistic):           1.68e-15\n",
            "Time:                        14:52:32   Log-Likelihood:                -309.89\n",
            "No. Observations:                 129   AIC:                             627.8\n",
            "Df Residuals:                     125   BIC:                             639.2\n",
            "Df Model:                           3                                         \n",
            "Covariance Type:            nonrobust                                         \n",
            "==============================================================================\n",
            "                 coef    std err          t      P>|t|      [0.025      0.975]\n",
            "------------------------------------------------------------------------------\n",
            "const         -0.2075      0.481     -0.431      0.667      -1.160       0.745\n",
            "Innings        0.2482      0.085      2.925      0.004       0.080       0.416\n",
            "Fours          0.0128      0.027      0.468      0.641      -0.041       0.067\n",
            "Capped         2.8868      0.535      5.394      0.000       1.828       3.946\n",
            "==============================================================================\n",
            "Omnibus:                       20.738   Durbin-Watson:                   2.174\n",
            "Prob(Omnibus):                  0.000   Jarque-Bera (JB):               26.087\n",
            "Skew:                           0.923   Prob(JB):                     2.16e-06\n",
            "Kurtosis:                       4.203   Cond. No.                         53.7\n",
            "==============================================================================\n",
            "\n",
            "Warnings:\n",
            "[1] Standard Errors assume that the covariance matrix of the errors is correctly specified.\n"
          ]
        }
      ]
    },
    {
      "cell_type": "markdown",
      "metadata": {
        "id": "IJ-DOdM0HZvm"
      },
      "source": [
        "##Numerology (Q1 b part)"
      ]
    },
    {
      "cell_type": "code",
      "metadata": {
        "id": "rcv9vPEuYlP0"
      },
      "source": [
        "name= df2['Name'].str.split(' ')"
      ],
      "execution_count": 16,
      "outputs": []
    },
    {
      "cell_type": "code",
      "metadata": {
        "colab": {
          "base_uri": "https://localhost:8080/"
        },
        "id": "hmF-KlreH5y6",
        "outputId": "b4c40131-161c-4e8f-975f-5728d41f1cf6"
      },
      "source": [
        "name[0][0], name[1][0], name[0][1]"
      ],
      "execution_count": 17,
      "outputs": [
        {
          "output_type": "execute_result",
          "data": {
            "text/plain": [
              "('Aaron', 'AB', 'Finch')"
            ]
          },
          "metadata": {},
          "execution_count": 17
        }
      ]
    },
    {
      "cell_type": "code",
      "metadata": {
        "id": "18xEV7ynIOo8"
      },
      "source": [
        "first=[]\n",
        "for i in range (0,129,1):\n",
        "  first.append(name[i][0])"
      ],
      "execution_count": 18,
      "outputs": []
    },
    {
      "cell_type": "code",
      "metadata": {
        "id": "cLeKWoq2VOF_"
      },
      "source": [
        "first[1]='Abraham'"
      ],
      "execution_count": 19,
      "outputs": []
    },
    {
      "cell_type": "code",
      "metadata": {
        "id": "cvGhI3x4cIxH"
      },
      "source": [
        "from string import ascii_lowercase\n",
        "def convertName(playerName):\n",
        "    LETTERS = {letter: str(index) for index, letter in enumerate(ascii_lowercase, start=1)}  \n",
        "    \n",
        "    def getSum(n):                                 #does sum of digits\n",
        "        sum = 0\n",
        "        for digit in str(n): \n",
        "            sum += int(digit)\n",
        "        return sum                                  #returns sum of digits\n",
        "    \n",
        "    def sumOfList(a):\n",
        "        b=0\n",
        "        for i in a:\n",
        "            b=b+i                                    # Converts to a single digit Ex: 16= 1+6= 7\n",
        "        return b\n",
        "\n",
        "\n",
        "    def alphabet_position(text):                     #Convert name to lower case\n",
        "        text = text.lower()\n",
        "        numbers = [int(LETTERS[character]) for character in text if character in LETTERS]\n",
        "        return getSum(sumOfList(numbers))\n",
        "    \n",
        "    finalResult =alphabet_position(playerName)\n",
        "    \n",
        "    if(int(finalResult)>0):\n",
        "        finalResult=getSum(finalResult)\n",
        "    return finalResult"
      ],
      "execution_count": 20,
      "outputs": []
    },
    {
      "cell_type": "code",
      "metadata": {
        "colab": {
          "base_uri": "https://localhost:8080/"
        },
        "id": "Ciao6JPAccxH",
        "outputId": "140011ac-d6f8-4ca6-e549-2639021c92d4"
      },
      "source": [
        "convertName(\"Kirtivardhan\")"
      ],
      "execution_count": 21,
      "outputs": [
        {
          "output_type": "execute_result",
          "data": {
            "text/plain": [
              "9"
            ]
          },
          "metadata": {},
          "execution_count": 21
        }
      ]
    },
    {
      "cell_type": "code",
      "metadata": {
        "colab": {
          "base_uri": "https://localhost:8080/",
          "height": 35
        },
        "id": "bfvVgr8tp0ai",
        "outputId": "c982062f-ea87-440b-d321-24e8411ed221"
      },
      "source": [
        "first[128]"
      ],
      "execution_count": 22,
      "outputs": [
        {
          "output_type": "execute_result",
          "data": {
            "application/vnd.google.colaboratory.intrinsic+json": {
              "type": "string"
            },
            "text/plain": [
              "'Yuzvendra'"
            ]
          },
          "metadata": {},
          "execution_count": 22
        }
      ]
    },
    {
      "cell_type": "code",
      "metadata": {
        "id": "yP836F6PePDY"
      },
      "source": [
        "num=[]\n",
        "for j in range (129):\n",
        "  num.append(convertName(first[j]))"
      ],
      "execution_count": 23,
      "outputs": []
    },
    {
      "cell_type": "code",
      "metadata": {
        "colab": {
          "base_uri": "https://localhost:8080/"
        },
        "id": "FcRUfeJdqOAZ",
        "outputId": "fb374259-a575-44ff-de5d-dc23548c3cc4"
      },
      "source": [
        "convertName('Abu')"
      ],
      "execution_count": 24,
      "outputs": [
        {
          "output_type": "execute_result",
          "data": {
            "text/plain": [
              "6"
            ]
          },
          "metadata": {},
          "execution_count": 24
        }
      ]
    },
    {
      "cell_type": "code",
      "metadata": {
        "colab": {
          "base_uri": "https://localhost:8080/"
        },
        "id": "n6-XH7LApNsz",
        "outputId": "e316345e-73a2-44c1-ca02-daa4dda3e655"
      },
      "source": [
        "print(convertName(first[2]))"
      ],
      "execution_count": 25,
      "outputs": [
        {
          "output_type": "stream",
          "name": "stdout",
          "text": [
            "6\n"
          ]
        }
      ]
    },
    {
      "cell_type": "code",
      "metadata": {
        "colab": {
          "base_uri": "https://localhost:8080/"
        },
        "id": "xwg7SwETqJ1Q",
        "outputId": "7e2ee7dc-ec0e-480f-cf01-83663688dce3"
      },
      "source": [
        "num"
      ],
      "execution_count": 26,
      "outputs": [
        {
          "output_type": "execute_result",
          "data": {
            "text/plain": [
              "[4,\n",
              " 8,\n",
              " 6,\n",
              " 6,\n",
              " 8,\n",
              " 2,\n",
              " 1,\n",
              " 7,\n",
              " 6,\n",
              " 9,\n",
              " 1,\n",
              " 3,\n",
              " 1,\n",
              " 1,\n",
              " 8,\n",
              " 9,\n",
              " 7,\n",
              " 6,\n",
              " 6,\n",
              " 7,\n",
              " 9,\n",
              " 9,\n",
              " 3,\n",
              " 3,\n",
              " 3,\n",
              " 4,\n",
              " 6,\n",
              " 4,\n",
              " 4,\n",
              " 4,\n",
              " 6,\n",
              " 4,\n",
              " 5,\n",
              " 4,\n",
              " 9,\n",
              " 9,\n",
              " 7,\n",
              " 4,\n",
              " 9,\n",
              " 3,\n",
              " 7,\n",
              " 7,\n",
              " 4,\n",
              " 9,\n",
              " 6,\n",
              " 4,\n",
              " 1,\n",
              " 5,\n",
              " 7,\n",
              " 3,\n",
              " 3,\n",
              " 8,\n",
              " 1,\n",
              " 4,\n",
              " 5,\n",
              " 8,\n",
              " 2,\n",
              " 3,\n",
              " 9,\n",
              " 5,\n",
              " 6,\n",
              " 2,\n",
              " 7,\n",
              " 4,\n",
              " 1,\n",
              " 8,\n",
              " 1,\n",
              " 2,\n",
              " 6,\n",
              " 1,\n",
              " 1,\n",
              " 1,\n",
              " 2,\n",
              " 8,\n",
              " 2,\n",
              " 5,\n",
              " 2,\n",
              " 7,\n",
              " 4,\n",
              " 8,\n",
              " 4,\n",
              " 3,\n",
              " 1,\n",
              " 1,\n",
              " 8,\n",
              " 9,\n",
              " 8,\n",
              " 2,\n",
              " 5,\n",
              " 5,\n",
              " 5,\n",
              " 6,\n",
              " 4,\n",
              " 9,\n",
              " 4,\n",
              " 7,\n",
              " 4,\n",
              " 4,\n",
              " 1,\n",
              " 2,\n",
              " 9,\n",
              " 7,\n",
              " 3,\n",
              " 2,\n",
              " 5,\n",
              " 2,\n",
              " 2,\n",
              " 9,\n",
              " 2,\n",
              " 5,\n",
              " 5,\n",
              " 9,\n",
              " 8,\n",
              " 9,\n",
              " 3,\n",
              " 9,\n",
              " 4,\n",
              " 4,\n",
              " 6,\n",
              " 3,\n",
              " 1,\n",
              " 4,\n",
              " 8,\n",
              " 7,\n",
              " 5,\n",
              " 4,\n",
              " 2,\n",
              " 7,\n",
              " 1]"
            ]
          },
          "metadata": {},
          "execution_count": 26
        }
      ]
    },
    {
      "cell_type": "markdown",
      "metadata": {
        "id": "-A314_pRMaTS"
      },
      "source": [
        "###Simple Linear Regression "
      ]
    },
    {
      "cell_type": "code",
      "metadata": {
        "colab": {
          "base_uri": "https://localhost:8080/"
        },
        "id": "BmBXnC1q0nlE",
        "outputId": "25be59c1-96a1-441d-977e-91d1c4ea3827"
      },
      "source": [
        "num_new= sm.add_constant(num)\n",
        "model1 = sm.OLS(Y,num_new )\n",
        "results1 = model1.fit()\n",
        "print(results1.summary())"
      ],
      "execution_count": 27,
      "outputs": [
        {
          "output_type": "stream",
          "name": "stdout",
          "text": [
            "                            OLS Regression Results                            \n",
            "==============================================================================\n",
            "Dep. Variable:           Auctionprice   R-squared:                       0.025\n",
            "Model:                            OLS   Adj. R-squared:                  0.017\n",
            "Method:                 Least Squares   F-statistic:                     3.244\n",
            "Date:                Tue, 30 Nov 2021   Prob (F-statistic):             0.0741\n",
            "Time:                        14:52:32   Log-Likelihood:                -345.22\n",
            "No. Observations:                 129   AIC:                             694.4\n",
            "Df Residuals:                     127   BIC:                             700.2\n",
            "Df Model:                           1                                         \n",
            "Covariance Type:            nonrobust                                         \n",
            "==============================================================================\n",
            "                 coef    std err          t      P>|t|      [0.025      0.975]\n",
            "------------------------------------------------------------------------------\n",
            "const          2.2170      0.663      3.345      0.001       0.906       3.529\n",
            "x1             0.2153      0.120      1.801      0.074      -0.021       0.452\n",
            "==============================================================================\n",
            "Omnibus:                       37.871   Durbin-Watson:                   2.092\n",
            "Prob(Omnibus):                  0.000   Jarque-Bera (JB):               59.824\n",
            "Skew:                           1.476   Prob(JB):                     1.02e-13\n",
            "Kurtosis:                       4.555   Cond. No.                         12.1\n",
            "==============================================================================\n",
            "\n",
            "Warnings:\n",
            "[1] Standard Errors assume that the covariance matrix of the errors is correctly specified.\n"
          ]
        }
      ]
    },
    {
      "cell_type": "markdown",
      "metadata": {
        "id": "FKswUTnuM3W8"
      },
      "source": [
        "###Multiple Regression"
      ]
    },
    {
      "cell_type": "code",
      "metadata": {
        "id": "xfPDvNsYMxQN"
      },
      "source": [
        "X2= X1.copy(deep=True)\n",
        "X2['num']=num"
      ],
      "execution_count": 28,
      "outputs": []
    },
    {
      "cell_type": "code",
      "metadata": {
        "colab": {
          "base_uri": "https://localhost:8080/"
        },
        "id": "k1Hq1dXuNd17",
        "outputId": "ab1d2f23-32db-42cc-dd59-36dc3edbea9f"
      },
      "source": [
        "X2_new= sm.add_constant(X2)\n",
        "model2 = sm.OLS(Y1, X2_new)\n",
        "results2 = model2.fit()\n",
        "print(results2.summary())"
      ],
      "execution_count": 29,
      "outputs": [
        {
          "output_type": "stream",
          "name": "stdout",
          "text": [
            "                            OLS Regression Results                            \n",
            "==============================================================================\n",
            "Dep. Variable:           Auctionprice   R-squared:                       0.447\n",
            "Model:                            OLS   Adj. R-squared:                  0.424\n",
            "Method:                 Least Squares   F-statistic:                     19.88\n",
            "Date:                Tue, 30 Nov 2021   Prob (F-statistic):           1.75e-14\n",
            "Time:                        14:52:32   Log-Likelihood:                -308.65\n",
            "No. Observations:                 129   AIC:                             629.3\n",
            "Df Residuals:                     123   BIC:                             646.5\n",
            "Df Model:                           5                                         \n",
            "Covariance Type:            nonrobust                                         \n",
            "==============================================================================\n",
            "                 coef    std err          t      P>|t|      [0.025      0.975]\n",
            "------------------------------------------------------------------------------\n",
            "const         -0.4326      0.636     -0.680      0.498      -1.692       0.827\n",
            "Innings        0.1607      0.108      1.493      0.138      -0.052       0.374\n",
            "RunsScored     0.0077      0.007      1.152      0.252      -0.006       0.021\n",
            "Fours         -0.0392      0.053     -0.733      0.465      -0.145       0.067\n",
            "Capped         2.8696      0.535      5.366      0.000       1.811       3.928\n",
            "num            0.0931      0.093      0.999      0.320      -0.091       0.277\n",
            "==============================================================================\n",
            "Omnibus:                       22.157   Durbin-Watson:                   2.145\n",
            "Prob(Omnibus):                  0.000   Jarque-Bera (JB):               29.726\n",
            "Skew:                           0.928   Prob(JB):                     3.51e-07\n",
            "Kurtosis:                       4.443   Cond. No.                         590.\n",
            "==============================================================================\n",
            "\n",
            "Warnings:\n",
            "[1] Standard Errors assume that the covariance matrix of the errors is correctly specified.\n"
          ]
        }
      ]
    },
    {
      "cell_type": "code",
      "metadata": {
        "id": "KyJCTevgO9Q3"
      },
      "source": [
        "X3=X2.drop('RunsScored',axis=1)           #Dropping RunsScored due to its high correlation with Innings and Fours"
      ],
      "execution_count": 30,
      "outputs": []
    },
    {
      "cell_type": "code",
      "metadata": {
        "colab": {
          "base_uri": "https://localhost:8080/"
        },
        "id": "DYNlEHticgcv",
        "outputId": "c09a5b09-888d-42cd-b55c-4f085c3c0df1"
      },
      "source": [
        "X3_new= sm.add_constant(X3)\n",
        "model3 = sm.OLS(Y1, X3_new)\n",
        "results3 = model3.fit()\n",
        "print(results3.summary())"
      ],
      "execution_count": 31,
      "outputs": [
        {
          "output_type": "stream",
          "name": "stdout",
          "text": [
            "                            OLS Regression Results                            \n",
            "==============================================================================\n",
            "Dep. Variable:           Auctionprice   R-squared:                       0.441\n",
            "Model:                            OLS   Adj. R-squared:                  0.423\n",
            "Method:                 Least Squares   F-statistic:                     24.45\n",
            "Date:                Tue, 30 Nov 2021   Prob (F-statistic):           6.23e-15\n",
            "Time:                        14:52:32   Log-Likelihood:                -309.34\n",
            "No. Observations:                 129   AIC:                             628.7\n",
            "Df Residuals:                     124   BIC:                             643.0\n",
            "Df Model:                           4                                         \n",
            "Covariance Type:            nonrobust                                         \n",
            "==============================================================================\n",
            "                 coef    std err          t      P>|t|      [0.025      0.975]\n",
            "------------------------------------------------------------------------------\n",
            "const         -0.6080      0.618     -0.983      0.327      -1.832       0.616\n",
            "Innings        0.2360      0.086      2.756      0.007       0.067       0.406\n",
            "Fours          0.0138      0.027      0.504      0.615      -0.040       0.068\n",
            "Capped         2.8925      0.535      5.405      0.000       1.833       3.952\n",
            "num            0.0960      0.093      1.030      0.305      -0.088       0.281\n",
            "==============================================================================\n",
            "Omnibus:                       21.294   Durbin-Watson:                   2.136\n",
            "Prob(Omnibus):                  0.000   Jarque-Bera (JB):               27.375\n",
            "Skew:                           0.927   Prob(JB):                     1.14e-06\n",
            "Kurtosis:                       4.287   Cond. No.                         60.7\n",
            "==============================================================================\n",
            "\n",
            "Warnings:\n",
            "[1] Standard Errors assume that the covariance matrix of the errors is correctly specified.\n"
          ]
        }
      ]
    }
  ]
}